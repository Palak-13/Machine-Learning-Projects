{
  "nbformat": 4,
  "nbformat_minor": 0,
  "metadata": {
    "colab": {
      "provenance": [],
      "mount_file_id": "1EOBBZunqRKO_m1V_TQ6XYvZc4R97C9Wq",
      "authorship_tag": "ABX9TyM755KSJd237RL9NcrJeaeX",
      "include_colab_link": true
    },
    "kernelspec": {
      "name": "python3",
      "display_name": "Python 3"
    },
    "language_info": {
      "name": "python"
    }
  },
  "cells": [
    {
      "cell_type": "markdown",
      "metadata": {
        "id": "view-in-github",
        "colab_type": "text"
      },
      "source": [
        "<a href=\"https://colab.research.google.com/github/Palak-13/Machine-Learning-Projects/blob/main/Machine_learning_data_structure.ipynb\" target=\"_parent\"><img src=\"https://colab.research.google.com/assets/colab-badge.svg\" alt=\"Open In Colab\"/></a>"
      ]
    },
    {
      "cell_type": "markdown",
      "source": [
        "# Python Basics"
      ],
      "metadata": {
        "id": "dh7fnGXl3NtH"
      }
    },
    {
      "cell_type": "code",
      "source": [
        "10**2"
      ],
      "metadata": {
        "colab": {
          "base_uri": "https://localhost:8080/"
        },
        "id": "9y5C67XmtNA7",
        "outputId": "f044cfd9-b055-48d2-a7b0-3658a911513b"
      },
      "execution_count": 1,
      "outputs": [
        {
          "output_type": "execute_result",
          "data": {
            "text/plain": [
              "100"
            ]
          },
          "metadata": {},
          "execution_count": 1
        }
      ]
    },
    {
      "cell_type": "code",
      "execution_count": 2,
      "metadata": {
        "id": "h0MfiFK9X3vW"
      },
      "outputs": [],
      "source": [
        "a=10"
      ]
    },
    {
      "cell_type": "code",
      "source": [
        "type(a)"
      ],
      "metadata": {
        "colab": {
          "base_uri": "https://localhost:8080/"
        },
        "id": "i6-65GewYIXG",
        "outputId": "69b663db-76a6-419d-eeff-5cdb4bfcbe73"
      },
      "execution_count": 3,
      "outputs": [
        {
          "output_type": "execute_result",
          "data": {
            "text/plain": [
              "int"
            ]
          },
          "metadata": {},
          "execution_count": 3
        }
      ]
    },
    {
      "cell_type": "code",
      "source": [
        "first_name='palak'\n",
        "last_name='singh'"
      ],
      "metadata": {
        "id": "IXeRl5c7YKis"
      },
      "execution_count": 4,
      "outputs": []
    },
    {
      "cell_type": "code",
      "source": [
        "print(\"my first name is {first} and last name is {last}\".format(first=first_name,last=last_name))"
      ],
      "metadata": {
        "colab": {
          "base_uri": "https://localhost:8080/"
        },
        "id": "pjx7gBfRYasI",
        "outputId": "55929713-059a-4908-e6f9-298502e1e9bc"
      },
      "execution_count": null,
      "outputs": [
        {
          "output_type": "stream",
          "name": "stdout",
          "text": [
            "my first name is palak and last name is singh\n"
          ]
        }
      ]
    },
    {
      "cell_type": "markdown",
      "source": [
        "# Python data structure and Boolean"
      ],
      "metadata": {
        "id": "2xA4-qHgtfvm"
      }
    },
    {
      "cell_type": "code",
      "source": [
        "my_str='palak'"
      ],
      "metadata": {
        "id": "XgO1gv6VY2lb"
      },
      "execution_count": 5,
      "outputs": []
    },
    {
      "cell_type": "code",
      "source": [
        "\n",
        "my_str.isalpha()"
      ],
      "metadata": {
        "colab": {
          "base_uri": "https://localhost:8080/"
        },
        "id": "TAIuNx2subiS",
        "outputId": "ce6985ed-de65-4253-ca5b-38d775d0d10b"
      },
      "execution_count": 7,
      "outputs": [
        {
          "output_type": "execute_result",
          "data": {
            "text/plain": [
              "True"
            ]
          },
          "metadata": {},
          "execution_count": 7
        }
      ]
    },
    {
      "cell_type": "code",
      "source": [
        "my_str.isalnum()"
      ],
      "metadata": {
        "colab": {
          "base_uri": "https://localhost:8080/"
        },
        "id": "VBBM1TUtuf3d",
        "outputId": "edb7caa4-d0c9-4b5d-8af1-22cf3c259b6e"
      },
      "execution_count": 8,
      "outputs": [
        {
          "output_type": "execute_result",
          "data": {
            "text/plain": [
              "True"
            ]
          },
          "metadata": {},
          "execution_count": 8
        }
      ]
    },
    {
      "cell_type": "code",
      "source": [
        "my_str.isdigit()\n"
      ],
      "metadata": {
        "colab": {
          "base_uri": "https://localhost:8080/"
        },
        "id": "1gsaO8wlu92R",
        "outputId": "a2117844-812b-43d5-e209-7647d7f321bb"
      },
      "execution_count": 13,
      "outputs": [
        {
          "output_type": "execute_result",
          "data": {
            "text/plain": [
              "False"
            ]
          },
          "metadata": {},
          "execution_count": 13
        }
      ]
    },
    {
      "cell_type": "code",
      "source": [
        "my_str.islower()"
      ],
      "metadata": {
        "colab": {
          "base_uri": "https://localhost:8080/"
        },
        "id": "I8W7z0wJvF2c",
        "outputId": "2c69cf91-e4d7-478f-970c-d9ad8fcf0e5d"
      },
      "execution_count": 12,
      "outputs": [
        {
          "output_type": "execute_result",
          "data": {
            "text/plain": [
              "True"
            ]
          },
          "metadata": {},
          "execution_count": 12
        }
      ]
    },
    {
      "cell_type": "code",
      "source": [
        "my_str.endswith('k')"
      ],
      "metadata": {
        "colab": {
          "base_uri": "https://localhost:8080/"
        },
        "id": "lNaXKV2WvPZC",
        "outputId": "c04e2bb7-20f8-427b-ad2b-ec8cf8dd8119"
      },
      "execution_count": 15,
      "outputs": [
        {
          "output_type": "execute_result",
          "data": {
            "text/plain": [
              "True"
            ]
          },
          "metadata": {},
          "execution_count": 15
        }
      ]
    },
    {
      "cell_type": "code",
      "source": [
        "my_str.startswith('p')"
      ],
      "metadata": {
        "colab": {
          "base_uri": "https://localhost:8080/"
        },
        "id": "JcEmjiUrvZl-",
        "outputId": "1833024f-33b6-4485-9132-3b12eabc480b"
      },
      "execution_count": 16,
      "outputs": [
        {
          "output_type": "execute_result",
          "data": {
            "text/plain": [
              "True"
            ]
          },
          "metadata": {},
          "execution_count": 16
        }
      ]
    },
    {
      "cell_type": "code",
      "source": [
        "str_exm='hello world'"
      ],
      "metadata": {
        "id": "FW2P7Zkcvjg2"
      },
      "execution_count": 17,
      "outputs": []
    },
    {
      "cell_type": "code",
      "source": [
        "my_str.isalpha() or str.exm.isnum()"
      ],
      "metadata": {
        "colab": {
          "base_uri": "https://localhost:8080/"
        },
        "id": "XrKIyR4nvxLo",
        "outputId": "6cf642e8-b6c2-47f3-e541-37af40c1fe33"
      },
      "execution_count": 18,
      "outputs": [
        {
          "output_type": "execute_result",
          "data": {
            "text/plain": [
              "True"
            ]
          },
          "metadata": {},
          "execution_count": 18
        }
      ]
    },
    {
      "cell_type": "markdown",
      "source": [
        "# ** List= collection of different items , value inside list is called items, its is represented in [ ] bracket. **"
      ],
      "metadata": {
        "id": "PusF-_nkwEFF"
      }
    },
    {
      "cell_type": "code",
      "source": [
        "list_exm=[]\n",
        "lst=list()"
      ],
      "metadata": {
        "id": "FLFZ9TXywg8B"
      },
      "execution_count": 19,
      "outputs": []
    },
    {
      "cell_type": "code",
      "source": [
        "type(lst)"
      ],
      "metadata": {
        "colab": {
          "base_uri": "https://localhost:8080/"
        },
        "id": "-i_MT15lyWZR",
        "outputId": "195bd86c-f228-4c5f-b567-d9500fbedbfe"
      },
      "execution_count": 20,
      "outputs": [
        {
          "output_type": "execute_result",
          "data": {
            "text/plain": [
              "list"
            ]
          },
          "metadata": {},
          "execution_count": 20
        }
      ]
    },
    {
      "cell_type": "code",
      "source": [
        "lst=['Mathematics','English','Chemistry',100,200,300]"
      ],
      "metadata": {
        "id": "Yhc56GC5yZ0N"
      },
      "execution_count": 21,
      "outputs": []
    },
    {
      "cell_type": "code",
      "source": [
        "len(lst)"
      ],
      "metadata": {
        "colab": {
          "base_uri": "https://localhost:8080/"
        },
        "id": "Bn9nErbVylV2",
        "outputId": "cf4e8c25-a149-4162-df32-69ae82c544e6"
      },
      "execution_count": 22,
      "outputs": [
        {
          "output_type": "execute_result",
          "data": {
            "text/plain": [
              "6"
            ]
          },
          "metadata": {},
          "execution_count": 22
        }
      ]
    },
    {
      "cell_type": "code",
      "source": [
        "lst.append(\"krish\")"
      ],
      "metadata": {
        "id": "LcVbbfWvym_c"
      },
      "execution_count": 24,
      "outputs": []
    },
    {
      "cell_type": "code",
      "source": [
        "lst"
      ],
      "metadata": {
        "colab": {
          "base_uri": "https://localhost:8080/"
        },
        "id": "k4rBAeP7ytyw",
        "outputId": "fcf3b39e-803a-47ff-8d1f-cf2342919fe0"
      },
      "execution_count": 25,
      "outputs": [
        {
          "output_type": "execute_result",
          "data": {
            "text/plain": [
              "['Mathematics', 'English', 'Chemistry', 100, 200, 300, 'krish']"
            ]
          },
          "metadata": {},
          "execution_count": 25
        }
      ]
    },
    {
      "cell_type": "code",
      "source": [
        "lst[2]"
      ],
      "metadata": {
        "colab": {
          "base_uri": "https://localhost:8080/",
          "height": 36
        },
        "id": "LBN4ybgey0B3",
        "outputId": "79060e9b-b090-4627-ed93-4bb7ab337a6f"
      },
      "execution_count": 26,
      "outputs": [
        {
          "output_type": "execute_result",
          "data": {
            "text/plain": [
              "'Chemistry'"
            ],
            "application/vnd.google.colaboratory.intrinsic+json": {
              "type": "string"
            }
          },
          "metadata": {},
          "execution_count": 26
        }
      ]
    },
    {
      "cell_type": "code",
      "source": [
        "lst[:]"
      ],
      "metadata": {
        "colab": {
          "base_uri": "https://localhost:8080/"
        },
        "id": "4C_aGbeAy5wI",
        "outputId": "45e7d5ee-7446-45f6-a41f-316a5a62cb0d"
      },
      "execution_count": 27,
      "outputs": [
        {
          "output_type": "execute_result",
          "data": {
            "text/plain": [
              "['Mathematics', 'English', 'Chemistry', 100, 200, 300, 'krish']"
            ]
          },
          "metadata": {},
          "execution_count": 27
        }
      ]
    },
    {
      "cell_type": "code",
      "source": [
        "lst[1:]"
      ],
      "metadata": {
        "colab": {
          "base_uri": "https://localhost:8080/"
        },
        "id": "WRqONMWOy_MN",
        "outputId": "96e85cc5-4cc7-4765-ee50-aa52b7fb3523"
      },
      "execution_count": 28,
      "outputs": [
        {
          "output_type": "execute_result",
          "data": {
            "text/plain": [
              "['English', 'Chemistry', 100, 200, 300, 'krish']"
            ]
          },
          "metadata": {},
          "execution_count": 28
        }
      ]
    },
    {
      "cell_type": "code",
      "source": [
        "lst[1:5]"
      ],
      "metadata": {
        "colab": {
          "base_uri": "https://localhost:8080/"
        },
        "id": "u0Sm5PN3zB4d",
        "outputId": "0dda22a6-725a-40c9-9fa3-9cb7aa7f5bda"
      },
      "execution_count": 29,
      "outputs": [
        {
          "output_type": "execute_result",
          "data": {
            "text/plain": [
              "['English', 'Chemistry', 100, 200]"
            ]
          },
          "metadata": {},
          "execution_count": 29
        }
      ]
    },
    {
      "cell_type": "markdown",
      "source": [
        "# Nested list"
      ],
      "metadata": {
        "id": "wI_OklGPziBN"
      }
    },
    {
      "cell_type": "code",
      "source": [
        "lst.append([\"John\",\"Bela\"])"
      ],
      "metadata": {
        "id": "oCs4Umb8zFiu"
      },
      "execution_count": 31,
      "outputs": []
    },
    {
      "cell_type": "code",
      "source": [
        "lst"
      ],
      "metadata": {
        "colab": {
          "base_uri": "https://localhost:8080/"
        },
        "id": "D4W9xT_tzNdc",
        "outputId": "828cc5f9-dee7-4be2-c92d-a21f00a521b8"
      },
      "execution_count": 32,
      "outputs": [
        {
          "output_type": "execute_result",
          "data": {
            "text/plain": [
              "['Mathematics',\n",
              " 'English',\n",
              " 'Chemistry',\n",
              " 100,\n",
              " 200,\n",
              " 300,\n",
              " 'krish',\n",
              " ['John', 'Bela']]"
            ]
          },
          "metadata": {},
          "execution_count": 32
        }
      ]
    },
    {
      "cell_type": "markdown",
      "source": [
        "# Insert at specific position"
      ],
      "metadata": {
        "id": "taCwN1IQzqtQ"
      }
    },
    {
      "cell_type": "code",
      "source": [
        "lst.insert(1,\"Singh\")"
      ],
      "metadata": {
        "id": "jHUGRrxFzT5B"
      },
      "execution_count": 33,
      "outputs": []
    },
    {
      "cell_type": "code",
      "source": [
        "lst"
      ],
      "metadata": {
        "colab": {
          "base_uri": "https://localhost:8080/"
        },
        "id": "9zNykLZ8z1sd",
        "outputId": "b1b3c7c3-1c4f-4df9-e4bf-0fc2ed4aaaa4"
      },
      "execution_count": 34,
      "outputs": [
        {
          "output_type": "execute_result",
          "data": {
            "text/plain": [
              "['Mathematics',\n",
              " 'Singh',\n",
              " 'English',\n",
              " 'Chemistry',\n",
              " 100,\n",
              " 200,\n",
              " 300,\n",
              " 'krish',\n",
              " ['John', 'Bela']]"
            ]
          },
          "metadata": {},
          "execution_count": 34
        }
      ]
    },
    {
      "cell_type": "markdown",
      "source": [
        "# Extend method used to add the element separately"
      ],
      "metadata": {
        "id": "le475Fdgz51n"
      }
    },
    {
      "cell_type": "code",
      "source": [
        "lst1=[1,2,3,4,5]"
      ],
      "metadata": {
        "id": "agNYb4_0z2tS"
      },
      "execution_count": 35,
      "outputs": []
    },
    {
      "cell_type": "code",
      "source": [
        "lst1.extend([7,8,9])"
      ],
      "metadata": {
        "id": "QfRZxW-o0MgQ"
      },
      "execution_count": 36,
      "outputs": []
    },
    {
      "cell_type": "code",
      "source": [
        "lst1"
      ],
      "metadata": {
        "colab": {
          "base_uri": "https://localhost:8080/"
        },
        "id": "uRVj_-N80Q0D",
        "outputId": "1fc2e9b9-d04a-4f50-a493-d27b85c66952"
      },
      "execution_count": 37,
      "outputs": [
        {
          "output_type": "execute_result",
          "data": {
            "text/plain": [
              "[1, 2, 3, 4, 5, 7, 8, 9]"
            ]
          },
          "metadata": {},
          "execution_count": 37
        }
      ]
    },
    {
      "cell_type": "code",
      "source": [
        "sum(lst1)"
      ],
      "metadata": {
        "colab": {
          "base_uri": "https://localhost:8080/"
        },
        "id": "HnstXuFA0SKl",
        "outputId": "fa24f6d3-b9f2-4f2d-ddb1-5349039757a9"
      },
      "execution_count": 38,
      "outputs": [
        {
          "output_type": "execute_result",
          "data": {
            "text/plain": [
              "39"
            ]
          },
          "metadata": {},
          "execution_count": 38
        }
      ]
    },
    {
      "cell_type": "markdown",
      "source": [
        "pop() used to access last element"
      ],
      "metadata": {
        "id": "YRwZHSTl0glm"
      }
    },
    {
      "cell_type": "code",
      "source": [
        "lst1.pop()"
      ],
      "metadata": {
        "colab": {
          "base_uri": "https://localhost:8080/"
        },
        "id": "v5tY43Nj0XUl",
        "outputId": "56515341-4126-4a65-89f6-2e1da72352fa"
      },
      "execution_count": 40,
      "outputs": [
        {
          "output_type": "execute_result",
          "data": {
            "text/plain": [
              "9"
            ]
          },
          "metadata": {},
          "execution_count": 40
        }
      ]
    },
    {
      "cell_type": "markdown",
      "source": [
        "pop(0) is used to access the first element"
      ],
      "metadata": {
        "id": "_q0EPkem0tlc"
      }
    },
    {
      "cell_type": "code",
      "source": [
        "lst1.pop(0)"
      ],
      "metadata": {
        "colab": {
          "base_uri": "https://localhost:8080/"
        },
        "id": "iGQZvklP0b0H",
        "outputId": "3810f2ad-db51-4a41-f999-419541e2cb84"
      },
      "execution_count": 41,
      "outputs": [
        {
          "output_type": "execute_result",
          "data": {
            "text/plain": [
              "1"
            ]
          },
          "metadata": {},
          "execution_count": 41
        }
      ]
    },
    {
      "cell_type": "code",
      "source": [
        "lst2=[1,1,2,3,4,5]"
      ],
      "metadata": {
        "id": "4vD-1Vjw0qvj"
      },
      "execution_count": 1,
      "outputs": []
    },
    {
      "cell_type": "code",
      "source": [
        "lst2.count(1)"
      ],
      "metadata": {
        "colab": {
          "base_uri": "https://localhost:8080/"
        },
        "id": "cOqraUGkNLk7",
        "outputId": "609c4b59-5d3c-4704-ef2e-6858c4cfc5c5"
      },
      "execution_count": 2,
      "outputs": [
        {
          "output_type": "execute_result",
          "data": {
            "text/plain": [
              "2"
            ]
          },
          "metadata": {},
          "execution_count": 2
        }
      ]
    },
    {
      "cell_type": "code",
      "source": [
        "len(lst2)"
      ],
      "metadata": {
        "colab": {
          "base_uri": "https://localhost:8080/"
        },
        "id": "Ay1az4eFNO7B",
        "outputId": "a4bdc161-79eb-4c10-9fcc-656cb9c0e66f"
      },
      "execution_count": 3,
      "outputs": [
        {
          "output_type": "execute_result",
          "data": {
            "text/plain": [
              "6"
            ]
          },
          "metadata": {},
          "execution_count": 3
        }
      ]
    },
    {
      "cell_type": "markdown",
      "source": [
        "# index-> it return thr index of the first occurence start and end index are not necessary parmeter"
      ],
      "metadata": {
        "id": "c_fBFT18NXYy"
      }
    },
    {
      "cell_type": "code",
      "source": [
        "lst2.index(1,1,4)"
      ],
      "metadata": {
        "colab": {
          "base_uri": "https://localhost:8080/"
        },
        "id": "B_WummYBNTSI",
        "outputId": "0e03bedd-6e52-4347-d0b5-2e49d787db14"
      },
      "execution_count": 6,
      "outputs": [
        {
          "output_type": "execute_result",
          "data": {
            "text/plain": [
              "1"
            ]
          },
          "metadata": {},
          "execution_count": 6
        }
      ]
    },
    {
      "cell_type": "code",
      "source": [
        "min(lst2)"
      ],
      "metadata": {
        "colab": {
          "base_uri": "https://localhost:8080/"
        },
        "id": "BSpv-6CSNtB5",
        "outputId": "acb0c681-75fc-4bd4-9e2f-92b40b2d9337"
      },
      "execution_count": 7,
      "outputs": [
        {
          "output_type": "execute_result",
          "data": {
            "text/plain": [
              "1"
            ]
          },
          "metadata": {},
          "execution_count": 7
        }
      ]
    },
    {
      "cell_type": "code",
      "source": [
        "max(lst2)"
      ],
      "metadata": {
        "colab": {
          "base_uri": "https://localhost:8080/"
        },
        "id": "NkcPvG8IN140",
        "outputId": "6a54d932-8412-46f3-da3f-d620623c2c02"
      },
      "execution_count": 8,
      "outputs": [
        {
          "output_type": "execute_result",
          "data": {
            "text/plain": [
              "5"
            ]
          },
          "metadata": {},
          "execution_count": 8
        }
      ]
    },
    {
      "cell_type": "markdown",
      "source": [
        "## when we multiply any number n with list then list get appended by n "
      ],
      "metadata": {
        "id": "2onZNi_GOHG5"
      }
    },
    {
      "cell_type": "code",
      "source": [
        "lst2*2"
      ],
      "metadata": {
        "colab": {
          "base_uri": "https://localhost:8080/"
        },
        "id": "mU3Uki_KN31i",
        "outputId": "cd29f97e-920d-4f07-8c43-bff93970dda3"
      },
      "execution_count": 9,
      "outputs": [
        {
          "output_type": "execute_result",
          "data": {
            "text/plain": [
              "[1, 1, 2, 3, 4, 5, 1, 1, 2, 3, 4, 5]"
            ]
          },
          "metadata": {},
          "execution_count": 9
        }
      ]
    },
    {
      "cell_type": "code",
      "source": [
        "lst2*4"
      ],
      "metadata": {
        "colab": {
          "base_uri": "https://localhost:8080/"
        },
        "id": "plzLk_1RN62e",
        "outputId": "beef1821-eeae-48eb-e643-c5dd93be1af8"
      },
      "execution_count": 10,
      "outputs": [
        {
          "output_type": "execute_result",
          "data": {
            "text/plain": [
              "[1, 1, 2, 3, 4, 5, 1, 1, 2, 3, 4, 5, 1, 1, 2, 3, 4, 5, 1, 1, 2, 3, 4, 5]"
            ]
          },
          "metadata": {},
          "execution_count": 10
        }
      ]
    },
    {
      "cell_type": "markdown",
      "source": [
        "# SETS-> unordered collection of data type that is iterable, mutable and has no duplicate element .\n",
        "# this is based on a data structure knowns as a hash table.\n",
        "# it is written in curly braces { }."
      ],
      "metadata": {
        "id": "Ra1Z7QCEOhj5"
      }
    },
    {
      "cell_type": "code",
      "source": [
        "set_var=set()"
      ],
      "metadata": {
        "id": "U9UVfTdlOZUX"
      },
      "execution_count": 11,
      "outputs": []
    },
    {
      "cell_type": "code",
      "source": [
        "print(set_var)"
      ],
      "metadata": {
        "colab": {
          "base_uri": "https://localhost:8080/"
        },
        "id": "dtmbnHo-PCvC",
        "outputId": "9b819762-229b-4200-f305-a6c5aea4fe4f"
      },
      "execution_count": 12,
      "outputs": [
        {
          "output_type": "stream",
          "name": "stdout",
          "text": [
            "set()\n"
          ]
        }
      ]
    },
    {
      "cell_type": "code",
      "source": [
        "print(type(set_var))"
      ],
      "metadata": {
        "colab": {
          "base_uri": "https://localhost:8080/"
        },
        "id": "0PbKBn44PHVj",
        "outputId": "950af42e-d408-4dfa-c8cd-c95aad44bb78"
      },
      "execution_count": 13,
      "outputs": [
        {
          "output_type": "stream",
          "name": "stdout",
          "text": [
            "<class 'set'>\n"
          ]
        }
      ]
    },
    {
      "cell_type": "code",
      "source": [
        "set_var={1,2,3,4,1}"
      ],
      "metadata": {
        "id": "BtLzE0SkPNKJ"
      },
      "execution_count": 14,
      "outputs": []
    },
    {
      "cell_type": "code",
      "source": [
        "set_var"
      ],
      "metadata": {
        "colab": {
          "base_uri": "https://localhost:8080/"
        },
        "id": "YOIPWIq6Pcxd",
        "outputId": "f991e069-5a13-4e62-d24f-f496c4fbdf9e"
      },
      "execution_count": 15,
      "outputs": [
        {
          "output_type": "execute_result",
          "data": {
            "text/plain": [
              "{1, 2, 3, 4}"
            ]
          },
          "metadata": {},
          "execution_count": 15
        }
      ]
    },
    {
      "cell_type": "markdown",
      "source": [
        "# indexing "
      ],
      "metadata": {
        "id": "Lm6Xikd0Ph-z"
      }
    },
    {
      "cell_type": "code",
      "source": [
        "set_var.add(\"HULK\")"
      ],
      "metadata": {
        "id": "SbInchsoPfPE"
      },
      "execution_count": 17,
      "outputs": []
    },
    {
      "cell_type": "code",
      "source": [
        "set_var"
      ],
      "metadata": {
        "colab": {
          "base_uri": "https://localhost:8080/"
        },
        "id": "j0t-o5b-Ps1R",
        "outputId": "bb8fe5d7-7b42-405d-8146-d00e1df9b700"
      },
      "execution_count": 18,
      "outputs": [
        {
          "output_type": "execute_result",
          "data": {
            "text/plain": [
              "{1, 2, 3, 4, 'HULK'}"
            ]
          },
          "metadata": {},
          "execution_count": 18
        }
      ]
    },
    {
      "cell_type": "code",
      "source": [
        "set1={1,2,3,4,1}\n",
        "set2={3,4,5}"
      ],
      "metadata": {
        "id": "RpfwLGQDP405"
      },
      "execution_count": 19,
      "outputs": []
    },
    {
      "cell_type": "code",
      "source": [
        "set2.difference(set1)"
      ],
      "metadata": {
        "colab": {
          "base_uri": "https://localhost:8080/"
        },
        "id": "bCQFdHw2QEWL",
        "outputId": "aca1d52b-79a7-4ba7-f8b9-977d3259c360"
      },
      "execution_count": 20,
      "outputs": [
        {
          "output_type": "execute_result",
          "data": {
            "text/plain": [
              "{5}"
            ]
          },
          "metadata": {},
          "execution_count": 20
        }
      ]
    },
    {
      "cell_type": "code",
      "source": [
        "set1.difference(set2)"
      ],
      "metadata": {
        "colab": {
          "base_uri": "https://localhost:8080/"
        },
        "id": "R9qrqL3-QIPF",
        "outputId": "7ebb06ef-d7ed-4b26-93e6-c167fa758248"
      },
      "execution_count": 21,
      "outputs": [
        {
          "output_type": "execute_result",
          "data": {
            "text/plain": [
              "{1, 2}"
            ]
          },
          "metadata": {},
          "execution_count": 21
        }
      ]
    },
    {
      "cell_type": "code",
      "source": [
        "set2.intersection_update(set1)"
      ],
      "metadata": {
        "id": "BAWZBzOOQNzl"
      },
      "execution_count": 22,
      "outputs": []
    },
    {
      "cell_type": "code",
      "source": [
        "set2"
      ],
      "metadata": {
        "colab": {
          "base_uri": "https://localhost:8080/"
        },
        "id": "mM16t2JiQVW_",
        "outputId": "fdb188f0-4a48-4f11-b14a-943dd1f6bc0a"
      },
      "execution_count": 23,
      "outputs": [
        {
          "output_type": "execute_result",
          "data": {
            "text/plain": [
              "{3, 4}"
            ]
          },
          "metadata": {},
          "execution_count": 23
        }
      ]
    },
    {
      "cell_type": "markdown",
      "source": [
        "# Dictonaries -> collection which is unordered,changeable and indexed\n",
        "# in python dictionaries are written in curly braces.\n",
        "# they have keys and values."
      ],
      "metadata": {
        "id": "Gsw4m43vQe9l"
      }
    },
    {
      "cell_type": "code",
      "source": [
        "dic={}"
      ],
      "metadata": {
        "id": "9J63gdMiQYac"
      },
      "execution_count": 24,
      "outputs": []
    },
    {
      "cell_type": "code",
      "source": [
        "type(dic)"
      ],
      "metadata": {
        "colab": {
          "base_uri": "https://localhost:8080/"
        },
        "id": "WtWgKS1cRAZh",
        "outputId": "a71850f4-3f7d-4a3a-8061-78e33657cd8a"
      },
      "execution_count": 25,
      "outputs": [
        {
          "output_type": "execute_result",
          "data": {
            "text/plain": [
              "dict"
            ]
          },
          "metadata": {},
          "execution_count": 25
        }
      ]
    },
    {
      "cell_type": "code",
      "source": [
        "my_dic={\"car\":\"audi\",\"bike\":\"honda\",\"cycle\":\"hero\"}"
      ],
      "metadata": {
        "id": "-jdI64SFRCSl"
      },
      "execution_count": 2,
      "outputs": []
    },
    {
      "cell_type": "code",
      "source": [
        "my_dic"
      ],
      "metadata": {
        "colab": {
          "base_uri": "https://localhost:8080/"
        },
        "id": "UHTNK7ugRez9",
        "outputId": "2cdec6a6-ef89-4c8a-eb79-072a1ad52e8c"
      },
      "execution_count": 27,
      "outputs": [
        {
          "output_type": "execute_result",
          "data": {
            "text/plain": [
              "{'car': 'audi', 'bike': 'honda', 'cycle': 'hero'}"
            ]
          },
          "metadata": {},
          "execution_count": 27
        }
      ]
    },
    {
      "cell_type": "code",
      "source": [
        "type(my_dic)"
      ],
      "metadata": {
        "colab": {
          "base_uri": "https://localhost:8080/"
        },
        "id": "_L682WhgRiZg",
        "outputId": "30b9c4a0-d679-4539-df25-46b0bca9ae48"
      },
      "execution_count": 28,
      "outputs": [
        {
          "output_type": "execute_result",
          "data": {
            "text/plain": [
              "dict"
            ]
          },
          "metadata": {},
          "execution_count": 28
        }
      ]
    },
    {
      "cell_type": "markdown",
      "source": [
        "# Access the item based on keys"
      ],
      "metadata": {
        "id": "r_EFx9rrRuhB"
      }
    },
    {
      "cell_type": "code",
      "source": [
        "my_dic['car']"
      ],
      "metadata": {
        "colab": {
          "base_uri": "https://localhost:8080/",
          "height": 36
        },
        "id": "dlCRXw-oRmWT",
        "outputId": "bf98a05a-c14e-49a3-939f-7996ac813a8c"
      },
      "execution_count": 29,
      "outputs": [
        {
          "output_type": "execute_result",
          "data": {
            "text/plain": [
              "'audi'"
            ],
            "application/vnd.google.colaboratory.intrinsic+json": {
              "type": "string"
            }
          },
          "metadata": {},
          "execution_count": 29
        }
      ]
    },
    {
      "cell_type": "markdown",
      "source": [
        "we can even loop through the dictonaries keys "
      ],
      "metadata": {
        "id": "wbujVB3ExoLi"
      }
    },
    {
      "cell_type": "code",
      "source": [
        "for x in my_dic:\n",
        "      print(x)"
      ],
      "metadata": {
        "colab": {
          "base_uri": "https://localhost:8080/"
        },
        "id": "g4RkcYZfR8gq",
        "outputId": "6f0b7085-c2af-49ec-ab50-ad3744a730b5"
      },
      "execution_count": 3,
      "outputs": [
        {
          "output_type": "stream",
          "name": "stdout",
          "text": [
            "car\n",
            "bike\n",
            "cycle\n"
          ]
        }
      ]
    },
    {
      "cell_type": "code",
      "source": [
        "for x in my_dic.values():\n",
        "  print(x)"
      ],
      "metadata": {
        "colab": {
          "base_uri": "https://localhost:8080/"
        },
        "id": "9n_o2FOdx5I0",
        "outputId": "519a9263-2d04-40f2-a8a4-4fb6a23ce510"
      },
      "execution_count": 4,
      "outputs": [
        {
          "output_type": "stream",
          "name": "stdout",
          "text": [
            "audi\n",
            "honda\n",
            "hero\n"
          ]
        }
      ]
    },
    {
      "cell_type": "code",
      "source": [
        "for x in my_dic.items():\n",
        "  print(x)"
      ],
      "metadata": {
        "colab": {
          "base_uri": "https://localhost:8080/"
        },
        "id": "A1IviKEoyTR9",
        "outputId": "7150e6d5-6f6b-4fdd-9eb5-4d92c9b87902"
      },
      "execution_count": 5,
      "outputs": [
        {
          "output_type": "stream",
          "name": "stdout",
          "text": [
            "('car', 'audi')\n",
            "('bike', 'honda')\n",
            "('cycle', 'hero')\n"
          ]
        }
      ]
    },
    {
      "cell_type": "markdown",
      "source": [
        "adding items in dictonaries "
      ],
      "metadata": {
        "id": "zlt7n6-XymBn"
      }
    },
    {
      "cell_type": "code",
      "source": [
        "my_dic['car1']='Audi 2.0'"
      ],
      "metadata": {
        "id": "gw3nOhOeydUH"
      },
      "execution_count": 6,
      "outputs": []
    },
    {
      "cell_type": "code",
      "source": [
        "my_dic"
      ],
      "metadata": {
        "colab": {
          "base_uri": "https://localhost:8080/"
        },
        "id": "FKfk_fMYzQFH",
        "outputId": "651f8aa3-10ad-45c4-b9b9-e72604a996a3"
      },
      "execution_count": 7,
      "outputs": [
        {
          "output_type": "execute_result",
          "data": {
            "text/plain": [
              "{'car': 'audi', 'bike': 'honda', 'cycle': 'hero', 'car1': 'Audi 2.0'}"
            ]
          },
          "metadata": {},
          "execution_count": 7
        }
      ]
    },
    {
      "cell_type": "code",
      "source": [
        "my_dic['car']='maruti'"
      ],
      "metadata": {
        "id": "TTn5-FplzRpg"
      },
      "execution_count": 8,
      "outputs": []
    },
    {
      "cell_type": "code",
      "source": [
        "my_dic"
      ],
      "metadata": {
        "colab": {
          "base_uri": "https://localhost:8080/"
        },
        "id": "Q91E_PPrzbgk",
        "outputId": "2bb06510-e0b4-4b42-9286-deaf8ca6bdaa"
      },
      "execution_count": 9,
      "outputs": [
        {
          "output_type": "execute_result",
          "data": {
            "text/plain": [
              "{'car': 'maruti', 'bike': 'honda', 'cycle': 'hero', 'car1': 'Audi 2.0'}"
            ]
          },
          "metadata": {},
          "execution_count": 9
        }
      ]
    },
    {
      "cell_type": "markdown",
      "source": [
        "#Nested Dictionaries"
      ],
      "metadata": {
        "id": "217V5U5RziWP"
      }
    },
    {
      "cell_type": "code",
      "source": [
        "car1_model={'mercedes':1960}\n",
        "car2_model={'audi':1970}\n",
        "car3_model={'ambassador':1980}\n"
      ],
      "metadata": {
        "id": "rNY20MUrzdiq"
      },
      "execution_count": 12,
      "outputs": []
    },
    {
      "cell_type": "code",
      "source": [
        "car_type={'car1':car1_model,'car2':car2_model,'car3':car3_model}"
      ],
      "metadata": {
        "id": "T_kCSl530nlx"
      },
      "execution_count": 15,
      "outputs": []
    },
    {
      "cell_type": "code",
      "source": [
        "print(car_type)"
      ],
      "metadata": {
        "colab": {
          "base_uri": "https://localhost:8080/"
        },
        "id": "xnGF-xkj0plj",
        "outputId": "b9d61e33-44f6-4af2-ac27-5a43927e0c0b"
      },
      "execution_count": 16,
      "outputs": [
        {
          "output_type": "stream",
          "name": "stdout",
          "text": [
            "{'car1': {'mercedes': 1960}, 'car2': {'audi': 1970}, 'car3': {'ambassador': 1980}}\n"
          ]
        }
      ]
    },
    {
      "cell_type": "code",
      "source": [
        "print(car_type['car1'])"
      ],
      "metadata": {
        "colab": {
          "base_uri": "https://localhost:8080/"
        },
        "id": "CsQ4mjDi02d-",
        "outputId": "3f18b560-2499-4214-8f2a-0907be3aa88d"
      },
      "execution_count": 17,
      "outputs": [
        {
          "output_type": "stream",
          "name": "stdout",
          "text": [
            "{'mercedes': 1960}\n"
          ]
        }
      ]
    },
    {
      "cell_type": "code",
      "source": [
        "print(car_type['car1']['mercedes'])"
      ],
      "metadata": {
        "colab": {
          "base_uri": "https://localhost:8080/"
        },
        "id": "4orTimRn1Prl",
        "outputId": "0d65c2af-a9f2-45c9-e729-63ab55807a22"
      },
      "execution_count": 18,
      "outputs": [
        {
          "output_type": "stream",
          "name": "stdout",
          "text": [
            "1960\n"
          ]
        }
      ]
    },
    {
      "cell_type": "markdown",
      "source": [
        "# Tuples: It is also collection of unordered element\n",
        "# Once tupe is defined we can not change the element in the tuple"
      ],
      "metadata": {
        "id": "bS9wNvcw1ju7"
      }
    },
    {
      "cell_type": "code",
      "source": [
        "my_tuple=tuple()"
      ],
      "metadata": {
        "id": "KXfm8vU_1dca"
      },
      "execution_count": 19,
      "outputs": []
    },
    {
      "cell_type": "code",
      "source": [
        "type(my_tuple)"
      ],
      "metadata": {
        "colab": {
          "base_uri": "https://localhost:8080/"
        },
        "id": "4YStISw12FKV",
        "outputId": "6dbd8dcc-cf7d-4ac7-f0cf-89d4f7ead6ee"
      },
      "execution_count": 20,
      "outputs": [
        {
          "output_type": "execute_result",
          "data": {
            "text/plain": [
              "tuple"
            ]
          },
          "metadata": {},
          "execution_count": 20
        }
      ]
    },
    {
      "cell_type": "code",
      "source": [
        "my_tuple=(\"Palak\",\"Pragati\",\"Ragini\")"
      ],
      "metadata": {
        "id": "g26SB6Ji2JAG"
      },
      "execution_count": 21,
      "outputs": []
    },
    {
      "cell_type": "code",
      "source": [
        "print(my_tuple)"
      ],
      "metadata": {
        "colab": {
          "base_uri": "https://localhost:8080/"
        },
        "id": "l2iCy6lr2yUw",
        "outputId": "fd988fd7-1c71-4ea9-bd72-0f9c2800e4f9"
      },
      "execution_count": 22,
      "outputs": [
        {
          "output_type": "stream",
          "name": "stdout",
          "text": [
            "('Palak', 'Pragati', 'Ragini')\n"
          ]
        }
      ]
    },
    {
      "cell_type": "code",
      "source": [
        "my_tuple.count('Palak')"
      ],
      "metadata": {
        "colab": {
          "base_uri": "https://localhost:8080/"
        },
        "id": "uc3nJ5fz21TM",
        "outputId": "71957e45-e8b7-4ad5-fab6-a14f821d3e63"
      },
      "execution_count": 23,
      "outputs": [
        {
          "output_type": "execute_result",
          "data": {
            "text/plain": [
              "1"
            ]
          },
          "metadata": {},
          "execution_count": 23
        }
      ]
    },
    {
      "cell_type": "code",
      "source": [
        "my_tuple.index('Ragini')"
      ],
      "metadata": {
        "colab": {
          "base_uri": "https://localhost:8080/"
        },
        "id": "UPTEKeEI29YD",
        "outputId": "9fc85979-1e81-4b8f-c449-10859b9264a7"
      },
      "execution_count": 24,
      "outputs": [
        {
          "output_type": "execute_result",
          "data": {
            "text/plain": [
              "2"
            ]
          },
          "metadata": {},
          "execution_count": 24
        }
      ]
    },
    {
      "cell_type": "code",
      "source": [],
      "metadata": {
        "id": "qE6APiwc3CsK"
      },
      "execution_count": null,
      "outputs": []
    },
    {
      "cell_type": "markdown",
      "source": [],
      "metadata": {
        "id": "jHZHdGGQ3LZC"
      }
    }
  ]
}